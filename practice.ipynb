{
  "nbformat": 4,
  "nbformat_minor": 0,
  "metadata": {
    "colab": {
      "provenance": [],
      "authorship_tag": "ABX9TyOTgApbV0yQ5cez+lj5Cvia",
      "include_colab_link": true
    },
    "kernelspec": {
      "name": "python3",
      "display_name": "Python 3"
    },
    "language_info": {
      "name": "python"
    },
    "accelerator": "GPU",
    "gpuClass": "standard"
  },
  "cells": [
    {
      "cell_type": "markdown",
      "metadata": {
        "id": "view-in-github",
        "colab_type": "text"
      },
      "source": [
        "<a href=\"https://colab.research.google.com/github/FanaticalBera/DeepLearning/blob/main/practice.ipynb\" target=\"_parent\"><img src=\"https://colab.research.google.com/assets/colab-badge.svg\" alt=\"Open In Colab\"/></a>"
      ]
    },
    {
      "cell_type": "code",
      "source": [
        "from fastai.vision.all import *"
      ],
      "metadata": {
        "id": "ieV414jd67Re"
      },
      "execution_count": null,
      "outputs": []
    },
    {
      "cell_type": "code",
      "execution_count": null,
      "metadata": {
        "colab": {
          "base_uri": "https://localhost:8080/",
          "height": 279
        },
        "id": "o6BU2faF626O",
        "outputId": "56f2b8b7-3f15-4157-e872-188533202302"
      },
      "outputs": [
        {
          "output_type": "display_data",
          "data": {
            "text/plain": [
              "<IPython.core.display.HTML object>"
            ],
            "text/html": [
              "\n",
              "<style>\n",
              "    /* Turns off some styling */\n",
              "    progress {\n",
              "        /* gets rid of default border in Firefox and Opera. */\n",
              "        border: none;\n",
              "        /* Needs to be in here for Safari polyfill so background images work as expected. */\n",
              "        background-size: auto;\n",
              "    }\n",
              "    progress:not([value]), progress:not([value])::-webkit-progress-bar {\n",
              "        background: repeating-linear-gradient(45deg, #7e7e7e, #7e7e7e 10px, #5c5c5c 10px, #5c5c5c 20px);\n",
              "    }\n",
              "    .progress-bar-interrupted, .progress-bar-interrupted::-webkit-progress-bar {\n",
              "        background: #F44336;\n",
              "    }\n",
              "</style>\n"
            ]
          },
          "metadata": {}
        },
        {
          "output_type": "display_data",
          "data": {
            "text/plain": [
              "<IPython.core.display.HTML object>"
            ],
            "text/html": [
              "\n",
              "    <div>\n",
              "      <progress value='144441344' class='' max='144440600' style='width:300px; height:20px; vertical-align: middle;'></progress>\n",
              "      100.00% [144441344/144440600 00:12&lt;00:00]\n",
              "    </div>\n",
              "    "
            ]
          },
          "metadata": {}
        },
        {
          "output_type": "display_data",
          "data": {
            "text/plain": [
              "<IPython.core.display.HTML object>"
            ],
            "text/html": [
              "\n",
              "<style>\n",
              "    /* Turns off some styling */\n",
              "    progress {\n",
              "        /* gets rid of default border in Firefox and Opera. */\n",
              "        border: none;\n",
              "        /* Needs to be in here for Safari polyfill so background images work as expected. */\n",
              "        background-size: auto;\n",
              "    }\n",
              "    progress:not([value]), progress:not([value])::-webkit-progress-bar {\n",
              "        background: repeating-linear-gradient(45deg, #7e7e7e, #7e7e7e 10px, #5c5c5c 10px, #5c5c5c 20px);\n",
              "    }\n",
              "    .progress-bar-interrupted, .progress-bar-interrupted::-webkit-progress-bar {\n",
              "        background: #F44336;\n",
              "    }\n",
              "</style>\n"
            ]
          },
          "metadata": {}
        },
        {
          "output_type": "display_data",
          "data": {
            "text/plain": [
              "<IPython.core.display.HTML object>"
            ],
            "text/html": []
          },
          "metadata": {}
        },
        {
          "output_type": "display_data",
          "data": {
            "text/plain": [
              "<IPython.core.display.HTML object>"
            ],
            "text/html": [
              "\n",
              "<style>\n",
              "    /* Turns off some styling */\n",
              "    progress {\n",
              "        /* gets rid of default border in Firefox and Opera. */\n",
              "        border: none;\n",
              "        /* Needs to be in here for Safari polyfill so background images work as expected. */\n",
              "        background-size: auto;\n",
              "    }\n",
              "    progress:not([value]), progress:not([value])::-webkit-progress-bar {\n",
              "        background: repeating-linear-gradient(45deg, #7e7e7e, #7e7e7e 10px, #5c5c5c 10px, #5c5c5c 20px);\n",
              "    }\n",
              "    .progress-bar-interrupted, .progress-bar-interrupted::-webkit-progress-bar {\n",
              "        background: #F44336;\n",
              "    }\n",
              "</style>\n"
            ]
          },
          "metadata": {}
        },
        {
          "output_type": "display_data",
          "data": {
            "text/plain": [
              "<IPython.core.display.HTML object>"
            ],
            "text/html": [
              "\n",
              "    <div>\n",
              "      <progress value='105070592' class='' max='105067061' style='width:300px; height:20px; vertical-align: middle;'></progress>\n",
              "      100.00% [105070592/105067061 00:09&lt;00:00]\n",
              "    </div>\n",
              "    "
            ]
          },
          "metadata": {}
        },
        {
          "output_type": "display_data",
          "data": {
            "text/plain": [
              "<IPython.core.display.HTML object>"
            ],
            "text/html": [
              "\n",
              "<style>\n",
              "    /* Turns off some styling */\n",
              "    progress {\n",
              "        /* gets rid of default border in Firefox and Opera. */\n",
              "        border: none;\n",
              "        /* Needs to be in here for Safari polyfill so background images work as expected. */\n",
              "        background-size: auto;\n",
              "    }\n",
              "    progress:not([value]), progress:not([value])::-webkit-progress-bar {\n",
              "        background: repeating-linear-gradient(45deg, #7e7e7e, #7e7e7e 10px, #5c5c5c 10px, #5c5c5c 20px);\n",
              "    }\n",
              "    .progress-bar-interrupted, .progress-bar-interrupted::-webkit-progress-bar {\n",
              "        background: #F44336;\n",
              "    }\n",
              "</style>\n"
            ]
          },
          "metadata": {}
        },
        {
          "output_type": "display_data",
          "data": {
            "text/plain": [
              "<IPython.core.display.HTML object>"
            ],
            "text/html": [
              "<table border=\"1\" class=\"dataframe\">\n",
              "  <thead>\n",
              "    <tr style=\"text-align: left;\">\n",
              "      <th>epoch</th>\n",
              "      <th>train_loss</th>\n",
              "      <th>valid_loss</th>\n",
              "      <th>accuracy</th>\n",
              "      <th>time</th>\n",
              "    </tr>\n",
              "  </thead>\n",
              "  <tbody>\n",
              "    <tr>\n",
              "      <td>0</td>\n",
              "      <td>0.467999</td>\n",
              "      <td>0.394069</td>\n",
              "      <td>0.827240</td>\n",
              "      <td>03:31</td>\n",
              "    </tr>\n",
              "  </tbody>\n",
              "</table>"
            ]
          },
          "metadata": {}
        },
        {
          "output_type": "display_data",
          "data": {
            "text/plain": [
              "<IPython.core.display.HTML object>"
            ],
            "text/html": [
              "\n",
              "<style>\n",
              "    /* Turns off some styling */\n",
              "    progress {\n",
              "        /* gets rid of default border in Firefox and Opera. */\n",
              "        border: none;\n",
              "        /* Needs to be in here for Safari polyfill so background images work as expected. */\n",
              "        background-size: auto;\n",
              "    }\n",
              "    progress:not([value]), progress:not([value])::-webkit-progress-bar {\n",
              "        background: repeating-linear-gradient(45deg, #7e7e7e, #7e7e7e 10px, #5c5c5c 10px, #5c5c5c 20px);\n",
              "    }\n",
              "    .progress-bar-interrupted, .progress-bar-interrupted::-webkit-progress-bar {\n",
              "        background: #F44336;\n",
              "    }\n",
              "</style>\n"
            ]
          },
          "metadata": {}
        },
        {
          "output_type": "display_data",
          "data": {
            "text/plain": [
              "<IPython.core.display.HTML object>"
            ],
            "text/html": [
              "<table border=\"1\" class=\"dataframe\">\n",
              "  <thead>\n",
              "    <tr style=\"text-align: left;\">\n",
              "      <th>epoch</th>\n",
              "      <th>train_loss</th>\n",
              "      <th>valid_loss</th>\n",
              "      <th>accuracy</th>\n",
              "      <th>time</th>\n",
              "    </tr>\n",
              "  </thead>\n",
              "  <tbody>\n",
              "    <tr>\n",
              "      <td>0</td>\n",
              "      <td>0.317368</td>\n",
              "      <td>0.245015</td>\n",
              "      <td>0.901400</td>\n",
              "      <td>07:22</td>\n",
              "    </tr>\n",
              "    <tr>\n",
              "      <td>1</td>\n",
              "      <td>0.238976</td>\n",
              "      <td>0.200575</td>\n",
              "      <td>0.922160</td>\n",
              "      <td>07:22</td>\n",
              "    </tr>\n",
              "    <tr>\n",
              "      <td>2</td>\n",
              "      <td>0.195426</td>\n",
              "      <td>0.186522</td>\n",
              "      <td>0.930200</td>\n",
              "      <td>07:21</td>\n",
              "    </tr>\n",
              "    <tr>\n",
              "      <td>3</td>\n",
              "      <td>0.141055</td>\n",
              "      <td>0.198394</td>\n",
              "      <td>0.928560</td>\n",
              "      <td>07:21</td>\n",
              "    </tr>\n",
              "  </tbody>\n",
              "</table>"
            ]
          },
          "metadata": {}
        }
      ],
      "source": [
        "from fastai.text.all import *\n",
        "\n",
        "dls = TextDataLoaders.from_folder(untar_data(URLs.IMDB), valid='test')\n",
        "learn = text_classifier_learner(dls, AWD_LSTM, drop_mult=0.5, metrics=accuracy)\n",
        "learn.fine_tune(4, 1e-2)"
      ]
    },
    {
      "cell_type": "code",
      "source": [
        "learn.predict(\"I really like that movie\")   "
      ],
      "metadata": {
        "colab": {
          "base_uri": "https://localhost:8080/",
          "height": 35
        },
        "id": "694KCkYITKIe",
        "outputId": "7fa2bc54-37c9-4362-cbb4-8dca53e4cbdc"
      },
      "execution_count": null,
      "outputs": [
        {
          "output_type": "display_data",
          "data": {
            "text/plain": [
              "<IPython.core.display.HTML object>"
            ],
            "text/html": [
              "\n",
              "<style>\n",
              "    /* Turns off some styling */\n",
              "    progress {\n",
              "        /* gets rid of default border in Firefox and Opera. */\n",
              "        border: none;\n",
              "        /* Needs to be in here for Safari polyfill so background images work as expected. */\n",
              "        background-size: auto;\n",
              "    }\n",
              "    progress:not([value]), progress:not([value])::-webkit-progress-bar {\n",
              "        background: repeating-linear-gradient(45deg, #7e7e7e, #7e7e7e 10px, #5c5c5c 10px, #5c5c5c 20px);\n",
              "    }\n",
              "    .progress-bar-interrupted, .progress-bar-interrupted::-webkit-progress-bar {\n",
              "        background: #F44336;\n",
              "    }\n",
              "</style>\n"
            ]
          },
          "metadata": {}
        },
        {
          "output_type": "display_data",
          "data": {
            "text/plain": [
              "<IPython.core.display.HTML object>"
            ],
            "text/html": []
          },
          "metadata": {}
        },
        {
          "output_type": "execute_result",
          "data": {
            "text/plain": [
              "('pos', tensor(1), tensor([0.0069, 0.9931]))"
            ]
          },
          "metadata": {},
          "execution_count": 4
        }
      ]
    },
    {
      "cell_type": "markdown",
      "source": [
        "neg 0.7% / pos 99.3%"
      ],
      "metadata": {
        "id": "Oj0mNhhtTk14"
      }
    },
    {
      "cell_type": "code",
      "source": [
        "from fastai.tabular.all import * \n",
        "path = untar_data(URLs.ADULT_SAMPLE)\n",
        "\n",
        "dls = TabularDataLoaders.from_csv(path/'adult.csv', path=path, y_names=\"salary\",\n",
        "                                  cat_names = ['workclass', 'education', 'marital-status', 'occupation', 'relationship', 'race'],\n",
        "                                  cont_names = ['age', 'fnlwgt', 'education-num'], \n",
        "                                  procs = [Categorify, FillMissing, Normalize])\n",
        "learn = tabular_learner(dls, metrics=accuracy)\n"
      ],
      "metadata": {
        "id": "jfij6GfqUAF_"
      },
      "execution_count": null,
      "outputs": []
    },
    {
      "cell_type": "code",
      "source": [
        "learn.fit_one_cycle(3) # 모델을 밑바닥부터 학습시킴"
      ],
      "metadata": {
        "colab": {
          "base_uri": "https://localhost:8080/",
          "height": 143
        },
        "id": "gmNHiCUvVbJQ",
        "outputId": "606717a1-3a20-4d42-cfd7-704aa1a99286"
      },
      "execution_count": null,
      "outputs": [
        {
          "output_type": "display_data",
          "data": {
            "text/plain": [
              "<IPython.core.display.HTML object>"
            ],
            "text/html": [
              "\n",
              "<style>\n",
              "    /* Turns off some styling */\n",
              "    progress {\n",
              "        /* gets rid of default border in Firefox and Opera. */\n",
              "        border: none;\n",
              "        /* Needs to be in here for Safari polyfill so background images work as expected. */\n",
              "        background-size: auto;\n",
              "    }\n",
              "    progress:not([value]), progress:not([value])::-webkit-progress-bar {\n",
              "        background: repeating-linear-gradient(45deg, #7e7e7e, #7e7e7e 10px, #5c5c5c 10px, #5c5c5c 20px);\n",
              "    }\n",
              "    .progress-bar-interrupted, .progress-bar-interrupted::-webkit-progress-bar {\n",
              "        background: #F44336;\n",
              "    }\n",
              "</style>\n"
            ]
          },
          "metadata": {}
        },
        {
          "output_type": "display_data",
          "data": {
            "text/plain": [
              "<IPython.core.display.HTML object>"
            ],
            "text/html": [
              "<table border=\"1\" class=\"dataframe\">\n",
              "  <thead>\n",
              "    <tr style=\"text-align: left;\">\n",
              "      <th>epoch</th>\n",
              "      <th>train_loss</th>\n",
              "      <th>valid_loss</th>\n",
              "      <th>accuracy</th>\n",
              "      <th>time</th>\n",
              "    </tr>\n",
              "  </thead>\n",
              "  <tbody>\n",
              "    <tr>\n",
              "      <td>0</td>\n",
              "      <td>0.385234</td>\n",
              "      <td>0.366947</td>\n",
              "      <td>0.827088</td>\n",
              "      <td>00:06</td>\n",
              "    </tr>\n",
              "    <tr>\n",
              "      <td>1</td>\n",
              "      <td>0.364013</td>\n",
              "      <td>0.353138</td>\n",
              "      <td>0.837224</td>\n",
              "      <td>00:07</td>\n",
              "    </tr>\n",
              "    <tr>\n",
              "      <td>2</td>\n",
              "      <td>0.353555</td>\n",
              "      <td>0.348965</td>\n",
              "      <td>0.838913</td>\n",
              "      <td>00:06</td>\n",
              "    </tr>\n",
              "  </tbody>\n",
              "</table>"
            ]
          },
          "metadata": {}
        }
      ]
    },
    {
      "cell_type": "code",
      "source": [
        "from fastai.collab import * \n",
        "path = untar_data(URLs.ML_SAMPLE)\n",
        "dls = CollabDataLoaders.from_csv(path/'ratings.csv')\n",
        "learn = collab_learner(dls, y_range=(0.5,5.5)) # 범주가 아닌 연속적인 수치를 예측하므로 y_range사용 \n",
        "learn.fine_tune(10)"
      ],
      "metadata": {
        "colab": {
          "base_uri": "https://localhost:8080/",
          "height": 427
        },
        "id": "M9h1j_x-V_n2",
        "outputId": "94289c19-1651-4f5a-d903-1a2f3507b455"
      },
      "execution_count": null,
      "outputs": [
        {
          "output_type": "display_data",
          "data": {
            "text/plain": [
              "<IPython.core.display.HTML object>"
            ],
            "text/html": [
              "\n",
              "<style>\n",
              "    /* Turns off some styling */\n",
              "    progress {\n",
              "        /* gets rid of default border in Firefox and Opera. */\n",
              "        border: none;\n",
              "        /* Needs to be in here for Safari polyfill so background images work as expected. */\n",
              "        background-size: auto;\n",
              "    }\n",
              "    progress:not([value]), progress:not([value])::-webkit-progress-bar {\n",
              "        background: repeating-linear-gradient(45deg, #7e7e7e, #7e7e7e 10px, #5c5c5c 10px, #5c5c5c 20px);\n",
              "    }\n",
              "    .progress-bar-interrupted, .progress-bar-interrupted::-webkit-progress-bar {\n",
              "        background: #F44336;\n",
              "    }\n",
              "</style>\n"
            ]
          },
          "metadata": {}
        },
        {
          "output_type": "display_data",
          "data": {
            "text/plain": [
              "<IPython.core.display.HTML object>"
            ],
            "text/html": [
              "<table border=\"1\" class=\"dataframe\">\n",
              "  <thead>\n",
              "    <tr style=\"text-align: left;\">\n",
              "      <th>epoch</th>\n",
              "      <th>train_loss</th>\n",
              "      <th>valid_loss</th>\n",
              "      <th>time</th>\n",
              "    </tr>\n",
              "  </thead>\n",
              "  <tbody>\n",
              "    <tr>\n",
              "      <td>0</td>\n",
              "      <td>1.512200</td>\n",
              "      <td>1.404613</td>\n",
              "      <td>00:01</td>\n",
              "    </tr>\n",
              "  </tbody>\n",
              "</table>"
            ]
          },
          "metadata": {}
        },
        {
          "output_type": "display_data",
          "data": {
            "text/plain": [
              "<IPython.core.display.HTML object>"
            ],
            "text/html": [
              "\n",
              "<style>\n",
              "    /* Turns off some styling */\n",
              "    progress {\n",
              "        /* gets rid of default border in Firefox and Opera. */\n",
              "        border: none;\n",
              "        /* Needs to be in here for Safari polyfill so background images work as expected. */\n",
              "        background-size: auto;\n",
              "    }\n",
              "    progress:not([value]), progress:not([value])::-webkit-progress-bar {\n",
              "        background: repeating-linear-gradient(45deg, #7e7e7e, #7e7e7e 10px, #5c5c5c 10px, #5c5c5c 20px);\n",
              "    }\n",
              "    .progress-bar-interrupted, .progress-bar-interrupted::-webkit-progress-bar {\n",
              "        background: #F44336;\n",
              "    }\n",
              "</style>\n"
            ]
          },
          "metadata": {}
        },
        {
          "output_type": "display_data",
          "data": {
            "text/plain": [
              "<IPython.core.display.HTML object>"
            ],
            "text/html": [
              "<table border=\"1\" class=\"dataframe\">\n",
              "  <thead>\n",
              "    <tr style=\"text-align: left;\">\n",
              "      <th>epoch</th>\n",
              "      <th>train_loss</th>\n",
              "      <th>valid_loss</th>\n",
              "      <th>time</th>\n",
              "    </tr>\n",
              "  </thead>\n",
              "  <tbody>\n",
              "    <tr>\n",
              "      <td>0</td>\n",
              "      <td>1.379406</td>\n",
              "      <td>1.345800</td>\n",
              "      <td>00:00</td>\n",
              "    </tr>\n",
              "    <tr>\n",
              "      <td>1</td>\n",
              "      <td>1.265381</td>\n",
              "      <td>1.164473</td>\n",
              "      <td>00:00</td>\n",
              "    </tr>\n",
              "    <tr>\n",
              "      <td>2</td>\n",
              "      <td>1.010810</td>\n",
              "      <td>0.870321</td>\n",
              "      <td>00:00</td>\n",
              "    </tr>\n",
              "    <tr>\n",
              "      <td>3</td>\n",
              "      <td>0.783382</td>\n",
              "      <td>0.740403</td>\n",
              "      <td>00:00</td>\n",
              "    </tr>\n",
              "    <tr>\n",
              "      <td>4</td>\n",
              "      <td>0.684632</td>\n",
              "      <td>0.709909</td>\n",
              "      <td>00:00</td>\n",
              "    </tr>\n",
              "    <tr>\n",
              "      <td>5</td>\n",
              "      <td>0.654520</td>\n",
              "      <td>0.699321</td>\n",
              "      <td>00:00</td>\n",
              "    </tr>\n",
              "    <tr>\n",
              "      <td>6</td>\n",
              "      <td>0.624394</td>\n",
              "      <td>0.693321</td>\n",
              "      <td>00:00</td>\n",
              "    </tr>\n",
              "    <tr>\n",
              "      <td>7</td>\n",
              "      <td>0.620096</td>\n",
              "      <td>0.690114</td>\n",
              "      <td>00:00</td>\n",
              "    </tr>\n",
              "    <tr>\n",
              "      <td>8</td>\n",
              "      <td>0.618306</td>\n",
              "      <td>0.689002</td>\n",
              "      <td>00:00</td>\n",
              "    </tr>\n",
              "    <tr>\n",
              "      <td>9</td>\n",
              "      <td>0.604206</td>\n",
              "      <td>0.688930</td>\n",
              "      <td>00:00</td>\n",
              "    </tr>\n",
              "  </tbody>\n",
              "</table>"
            ]
          },
          "metadata": {}
        }
      ]
    },
    {
      "cell_type": "code",
      "source": [
        "learn.show_results()"
      ],
      "metadata": {
        "colab": {
          "base_uri": "https://localhost:8080/",
          "height": 332
        },
        "id": "Lu5iL1W_XFUW",
        "outputId": "afa98cca-e47d-4c10-f067-1fd53e328765"
      },
      "execution_count": null,
      "outputs": [
        {
          "output_type": "display_data",
          "data": {
            "text/plain": [
              "<IPython.core.display.HTML object>"
            ],
            "text/html": [
              "\n",
              "<style>\n",
              "    /* Turns off some styling */\n",
              "    progress {\n",
              "        /* gets rid of default border in Firefox and Opera. */\n",
              "        border: none;\n",
              "        /* Needs to be in here for Safari polyfill so background images work as expected. */\n",
              "        background-size: auto;\n",
              "    }\n",
              "    progress:not([value]), progress:not([value])::-webkit-progress-bar {\n",
              "        background: repeating-linear-gradient(45deg, #7e7e7e, #7e7e7e 10px, #5c5c5c 10px, #5c5c5c 20px);\n",
              "    }\n",
              "    .progress-bar-interrupted, .progress-bar-interrupted::-webkit-progress-bar {\n",
              "        background: #F44336;\n",
              "    }\n",
              "</style>\n"
            ]
          },
          "metadata": {}
        },
        {
          "output_type": "display_data",
          "data": {
            "text/plain": [
              "<IPython.core.display.HTML object>"
            ],
            "text/html": []
          },
          "metadata": {}
        },
        {
          "output_type": "display_data",
          "data": {
            "text/plain": [
              "<IPython.core.display.HTML object>"
            ],
            "text/html": [
              "<table border=\"1\" class=\"dataframe\">\n",
              "  <thead>\n",
              "    <tr style=\"text-align: right;\">\n",
              "      <th></th>\n",
              "      <th>userId</th>\n",
              "      <th>movieId</th>\n",
              "      <th>rating</th>\n",
              "      <th>rating_pred</th>\n",
              "    </tr>\n",
              "  </thead>\n",
              "  <tbody>\n",
              "    <tr>\n",
              "      <th>0</th>\n",
              "      <td>92.0</td>\n",
              "      <td>9.0</td>\n",
              "      <td>4.0</td>\n",
              "      <td>4.046051</td>\n",
              "    </tr>\n",
              "    <tr>\n",
              "      <th>1</th>\n",
              "      <td>46.0</td>\n",
              "      <td>86.0</td>\n",
              "      <td>2.5</td>\n",
              "      <td>2.982163</td>\n",
              "    </tr>\n",
              "    <tr>\n",
              "      <th>2</th>\n",
              "      <td>31.0</td>\n",
              "      <td>60.0</td>\n",
              "      <td>5.0</td>\n",
              "      <td>4.132782</td>\n",
              "    </tr>\n",
              "    <tr>\n",
              "      <th>3</th>\n",
              "      <td>16.0</td>\n",
              "      <td>51.0</td>\n",
              "      <td>4.0</td>\n",
              "      <td>4.171210</td>\n",
              "    </tr>\n",
              "    <tr>\n",
              "      <th>4</th>\n",
              "      <td>82.0</td>\n",
              "      <td>50.0</td>\n",
              "      <td>5.0</td>\n",
              "      <td>3.822990</td>\n",
              "    </tr>\n",
              "    <tr>\n",
              "      <th>5</th>\n",
              "      <td>61.0</td>\n",
              "      <td>55.0</td>\n",
              "      <td>5.0</td>\n",
              "      <td>3.664760</td>\n",
              "    </tr>\n",
              "    <tr>\n",
              "      <th>6</th>\n",
              "      <td>51.0</td>\n",
              "      <td>98.0</td>\n",
              "      <td>4.5</td>\n",
              "      <td>3.910611</td>\n",
              "    </tr>\n",
              "    <tr>\n",
              "      <th>7</th>\n",
              "      <td>59.0</td>\n",
              "      <td>87.0</td>\n",
              "      <td>3.5</td>\n",
              "      <td>3.692170</td>\n",
              "    </tr>\n",
              "    <tr>\n",
              "      <th>8</th>\n",
              "      <td>93.0</td>\n",
              "      <td>63.0</td>\n",
              "      <td>5.0</td>\n",
              "      <td>4.579329</td>\n",
              "    </tr>\n",
              "  </tbody>\n",
              "</table>"
            ]
          },
          "metadata": {}
        }
      ]
    },
    {
      "cell_type": "code",
      "source": [
        "path=untar_data(URLs.MNIST_SAMPLE)"
      ],
      "metadata": {
        "id": "7MrrmszegDH3",
        "colab": {
          "base_uri": "https://localhost:8080/",
          "height": 74
        },
        "outputId": "881675fb-8121-4453-e88c-d06efeac8034"
      },
      "execution_count": null,
      "outputs": [
        {
          "output_type": "display_data",
          "data": {
            "text/plain": [
              "<IPython.core.display.HTML object>"
            ],
            "text/html": [
              "\n",
              "<style>\n",
              "    /* Turns off some styling */\n",
              "    progress {\n",
              "        /* gets rid of default border in Firefox and Opera. */\n",
              "        border: none;\n",
              "        /* Needs to be in here for Safari polyfill so background images work as expected. */\n",
              "        background-size: auto;\n",
              "    }\n",
              "    progress:not([value]), progress:not([value])::-webkit-progress-bar {\n",
              "        background: repeating-linear-gradient(45deg, #7e7e7e, #7e7e7e 10px, #5c5c5c 10px, #5c5c5c 20px);\n",
              "    }\n",
              "    .progress-bar-interrupted, .progress-bar-interrupted::-webkit-progress-bar {\n",
              "        background: #F44336;\n",
              "    }\n",
              "</style>\n"
            ]
          },
          "metadata": {}
        },
        {
          "output_type": "display_data",
          "data": {
            "text/plain": [
              "<IPython.core.display.HTML object>"
            ],
            "text/html": [
              "\n",
              "    <div>\n",
              "      <progress value='3219456' class='' max='3214948' style='width:300px; height:20px; vertical-align: middle;'></progress>\n",
              "      100.14% [3219456/3214948 00:00&lt;00:00]\n",
              "    </div>\n",
              "    "
            ]
          },
          "metadata": {}
        }
      ]
    },
    {
      "cell_type": "code",
      "source": [
        "path.ls()"
      ],
      "metadata": {
        "colab": {
          "base_uri": "https://localhost:8080/"
        },
        "id": "2Awr0lQsf3JO",
        "outputId": "d8ace8e2-c753-47ac-8386-4761a9b89c28"
      },
      "execution_count": null,
      "outputs": [
        {
          "output_type": "execute_result",
          "data": {
            "text/plain": [
              "(#3) [Path('/root/.fastai/data/mnist_sample/labels.csv'),Path('/root/.fastai/data/mnist_sample/valid'),Path('/root/.fastai/data/mnist_sample/train')]"
            ]
          },
          "metadata": {},
          "execution_count": 4
        }
      ]
    },
    {
      "cell_type": "code",
      "source": [
        "(path/'train').ls()"
      ],
      "metadata": {
        "colab": {
          "base_uri": "https://localhost:8080/"
        },
        "id": "6F6ZkKF3f_Fq",
        "outputId": "c71d0650-9e68-4ba6-a270-473c41fd9b2c"
      },
      "execution_count": null,
      "outputs": [
        {
          "output_type": "execute_result",
          "data": {
            "text/plain": [
              "(#2) [Path('/root/.fastai/data/mnist_sample/train/3'),Path('/root/.fastai/data/mnist_sample/train/7')]"
            ]
          },
          "metadata": {},
          "execution_count": 5
        }
      ]
    },
    {
      "cell_type": "code",
      "source": [
        "threes = (path/'train'/'3').ls().sorted()\n",
        "sevens = (path/'train'/'7').ls().sorted()\n",
        "threes"
      ],
      "metadata": {
        "colab": {
          "base_uri": "https://localhost:8080/"
        },
        "id": "Yj_u_CwEgJ62",
        "outputId": "df2d8c9d-0bbe-4407-84b0-20525c5e42f2"
      },
      "execution_count": null,
      "outputs": [
        {
          "output_type": "execute_result",
          "data": {
            "text/plain": [
              "(#6131) [Path('/root/.fastai/data/mnist_sample/train/3/10.png'),Path('/root/.fastai/data/mnist_sample/train/3/10000.png'),Path('/root/.fastai/data/mnist_sample/train/3/10011.png'),Path('/root/.fastai/data/mnist_sample/train/3/10031.png'),Path('/root/.fastai/data/mnist_sample/train/3/10034.png'),Path('/root/.fastai/data/mnist_sample/train/3/10042.png'),Path('/root/.fastai/data/mnist_sample/train/3/10052.png'),Path('/root/.fastai/data/mnist_sample/train/3/1007.png'),Path('/root/.fastai/data/mnist_sample/train/3/10074.png'),Path('/root/.fastai/data/mnist_sample/train/3/10091.png')...]"
            ]
          },
          "metadata": {},
          "execution_count": 6
        }
      ]
    },
    {
      "cell_type": "code",
      "source": [
        "im3_path = threes[1] \n",
        "im3 = Image.open(im3_path)\n",
        "im3"
      ],
      "metadata": {
        "colab": {
          "base_uri": "https://localhost:8080/",
          "height": 45
        },
        "id": "uaQVC1Z-gjw4",
        "outputId": "a853a41f-73df-44e9-c1c3-538cfd131750"
      },
      "execution_count": null,
      "outputs": [
        {
          "output_type": "execute_result",
          "data": {
            "text/plain": [
              "<PIL.PngImagePlugin.PngImageFile image mode=L size=28x28>"
            ],
            "image/png": "[encoded data removed]"
          },
          "metadata": {},
          "execution_count": 7
        }
      ]
    },
    {
      "cell_type": "code",
      "source": [
        "im7_path = sevens[1] \n",
        "im7 = Image.open(im7_path)\n",
        "im7"
      ],
      "metadata": {
        "colab": {
          "base_uri": "https://localhost:8080/",
          "height": 45
        },
        "id": "Bxt77E2Igz6T",
        "outputId": "04eec0bb-15de-4c04-b768-51c2cf65cfdf"
      },
      "execution_count": null,
      "outputs": [
        {
          "output_type": "execute_result",
          "data": {
            "text/plain": [
              "<PIL.PngImagePlugin.PngImageFile image mode=L size=28x28>"
            ],
            "image/png": "[encoded data removed]"
          },
          "metadata": {},
          "execution_count": 10
        }
      ]
    },
    {
      "cell_type": "code",
      "source": [
        "array(im3)[4:10,4:10]"
      ],
      "metadata": {
        "colab": {
          "base_uri": "https://localhost:8080/"
        },
        "id": "_2DxYhlnhNUE",
        "outputId": "99e6825d-5cf3-49e7-fcef-70fdd4bd5e64"
      },
      "execution_count": null,
      "outputs": [
        {
          "output_type": "execute_result",
          "data": {
            "text/plain": [
              "array([[  0,   0,   0,   0,   0,   0],\n",
              "       [  0,   0,   0,   0,   0,  29],\n",
              "       [  0,   0,   0,  48, 166, 224],\n",
              "       [  0,  93, 244, 249, 253, 187],\n",
              "       [  0, 107, 253, 253, 230,  48],\n",
              "       [  0,   3,  20,  20,  15,   0]], dtype=uint8)"
            ]
          },
          "metadata": {},
          "execution_count": 11
        }
      ]
    },
    {
      "cell_type": "code",
      "source": [
        "tensor(im3)[4:10,4:10]"
      ],
      "metadata": {
        "colab": {
          "base_uri": "https://localhost:8080/"
        },
        "id": "6oeNBHIYhbVs",
        "outputId": "5641c9fc-3b8f-4193-aa35-e49760582bb3"
      },
      "execution_count": null,
      "outputs": [
        {
          "output_type": "execute_result",
          "data": {
            "text/plain": [
              "tensor([[  0,   0,   0,   0,   0,   0],\n",
              "        [  0,   0,   0,   0,   0,  29],\n",
              "        [  0,   0,   0,  48, 166, 224],\n",
              "        [  0,  93, 244, 249, 253, 187],\n",
              "        [  0, 107, 253, 253, 230,  48],\n",
              "        [  0,   3,  20,  20,  15,   0]], dtype=torch.uint8)"
            ]
          },
          "metadata": {},
          "execution_count": 12
        }
      ]
    },
    {
      "cell_type": "code",
      "source": [
        "im3_t = tensor(im3)\n",
        "df = pd.DataFrame(im3_t[4:15,4:22])\n",
        "df.style.set_properties(**{'font-size':'6pt'}).background_gradient('Greys')"
      ],
      "metadata": {
        "colab": {
          "base_uri": "https://localhost:8080/",
          "height": 414
        },
        "id": "n2MXpY2qhnrs",
        "outputId": "8c41dc27-fcec-4d20-8b79-e529a23808fa"
      },
      "execution_count": null,
      "outputs": [
        {
          "output_type": "execute_result",
          "data": {
            "text/plain": [
              "<pandas.io.formats.style.Styler at 0x7f93a9bf18b0>"
            ],
            "text/html": [
              "<style type=\"text/css\">\n",
              "#T_d0ef7_row0_col0, #T_d0ef7_row0_col1, #T_d0ef7_row0_col2, #T_d0ef7_row0_col3, #T_d0ef7_row0_col4, #T_d0ef7_row0_col5, #T_d0ef7_row0_col6, #T_d0ef7_row0_col7, #T_d0ef7_row0_col8, #T_d0ef7_row0_col9, #T_d0ef7_row0_col10, #T_d0ef7_row0_col11, #T_d0ef7_row0_col12, #T_d0ef7_row0_col13, #T_d0ef7_row0_col14, #T_d0ef7_row0_col15, #T_d0ef7_row0_col16, #T_d0ef7_row0_col17, #T_d0ef7_row1_col0, #T_d0ef7_row1_col1, #T_d0ef7_row1_col2, #T_d0ef7_row1_col3, #T_d0ef7_row1_col4, #T_d0ef7_row1_col15, #T_d0ef7_row1_col16, #T_d0ef7_row1_col17, #T_d0ef7_row2_col0, #T_d0ef7_row2_col1, #T_d0ef7_row2_col2, #T_d0ef7_row2_col15, #T_d0ef7_row2_col16, #T_d0ef7_row2_col17, #T_d0ef7_row3_col0, #T_d0ef7_row3_col15, #T_d0ef7_row3_col16, #T_d0ef7_row3_col17, #T_d0ef7_row4_col0, #T_d0ef7_row4_col6, #T_d0ef7_row4_col7, #T_d0ef7_row4_col8, #T_d0ef7_row4_col9, #T_d0ef7_row4_col10, #T_d0ef7_row4_col15, #T_d0ef7_row4_col16, #T_d0ef7_row4_col17, #T_d0ef7_row5_col0, #T_d0ef7_row5_col5, #T_d0ef7_row5_col6, #T_d0ef7_row5_col7, #T_d0ef7_row5_col8, #T_d0ef7_row5_col9, #T_d0ef7_row5_col15, #T_d0ef7_row5_col16, #T_d0ef7_row5_col17, #T_d0ef7_row6_col0, #T_d0ef7_row6_col1, #T_d0ef7_row6_col2, #T_d0ef7_row6_col3, #T_d0ef7_row6_col4, #T_d0ef7_row6_col5, #T_d0ef7_row6_col6, #T_d0ef7_row6_col7, #T_d0ef7_row6_col8, #T_d0ef7_row6_col9, #T_d0ef7_row6_col14, #T_d0ef7_row6_col15, #T_d0ef7_row6_col16, #T_d0ef7_row6_col17, #T_d0ef7_row7_col0, #T_d0ef7_row7_col1, #T_d0ef7_row7_col2, #T_d0ef7_row7_col3, #T_d0ef7_row7_col4, #T_d0ef7_row7_col5, #T_d0ef7_row7_col6, #T_d0ef7_row7_col13, #T_d0ef7_row7_col14, #T_d0ef7_row7_col15, #T_d0ef7_row7_col16, #T_d0ef7_row7_col17, #T_d0ef7_row8_col0, #T_d0ef7_row8_col1, #T_d0ef7_row8_col2, #T_d0ef7_row8_col3, #T_d0ef7_row8_col4, #T_d0ef7_row8_col13, #T_d0ef7_row8_col14, #T_d0ef7_row8_col15, #T_d0ef7_row8_col16, #T_d0ef7_row8_col17, #T_d0ef7_row9_col0, #T_d0ef7_row9_col1, #T_d0ef7_row9_col2, #T_d0ef7_row9_col3, #T_d0ef7_row9_col4, #T_d0ef7_row9_col16, #T_d0ef7_row9_col17, #T_d0ef7_row10_col0, #T_d0ef7_row10_col1, #T_d0ef7_row10_col2, #T_d0ef7_row10_col3, #T_d0ef7_row10_col4, #T_d0ef7_row10_col5, #T_d0ef7_row10_col6, #T_d0ef7_row10_col17 {\n",
              "  font-size: 6pt;\n",
              "  background-color: #ffffff;\n",
              "  color: #000000;\n",
              "}\n",
              "#T_d0ef7_row1_col5 {\n",
              "  font-size: 6pt;\n",
              "  background-color: #efefef;\n",
              "  color: #000000;\n",
              "}\n",
              "#T_d0ef7_row1_col6, #T_d0ef7_row1_col13 {\n",
              "  font-size: 6pt;\n",
              "  background-color: #7c7c7c;\n",
              "  color: #f1f1f1;\n",
              "}\n",
              "#T_d0ef7_row1_col7 {\n",
              "  font-size: 6pt;\n",
              "  background-color: #4a4a4a;\n",
              "  color: #f1f1f1;\n",
              "}\n",
              "#T_d0ef7_row1_col8, #T_d0ef7_row1_col9, #T_d0ef7_row1_col10, #T_d0ef7_row2_col5, #T_d0ef7_row2_col6, #T_d0ef7_row2_col7, #T_d0ef7_row2_col11, #T_d0ef7_row2_col12, #T_d0ef7_row2_col13, #T_d0ef7_row3_col4, #T_d0ef7_row3_col12, #T_d0ef7_row3_col13, #T_d0ef7_row4_col1, #T_d0ef7_row4_col2, #T_d0ef7_row4_col3, #T_d0ef7_row4_col12, #T_d0ef7_row4_col13, #T_d0ef7_row5_col12, #T_d0ef7_row6_col11, #T_d0ef7_row9_col11, #T_d0ef7_row10_col11, #T_d0ef7_row10_col12, #T_d0ef7_row10_col13, #T_d0ef7_row10_col14, #T_d0ef7_row10_col15, #T_d0ef7_row10_col16 {\n",
              "  font-size: 6pt;\n",
              "  background-color: #000000;\n",
              "  color: #f1f1f1;\n",
              "}\n",
              "#T_d0ef7_row1_col11 {\n",
              "  font-size: 6pt;\n",
              "  background-color: #606060;\n",
              "  color: #f1f1f1;\n",
              "}\n",
              "#T_d0ef7_row1_col12 {\n",
              "  font-size: 6pt;\n",
              "  background-color: #4d4d4d;\n",
              "  color: #f1f1f1;\n",
              "}\n",
              "#T_d0ef7_row1_col14 {\n",
              "  font-size: 6pt;\n",
              "  background-color: #bbbbbb;\n",
              "  color: #000000;\n",
              "}\n",
              "#T_d0ef7_row2_col3 {\n",
              "  font-size: 6pt;\n",
              "  background-color: #e4e4e4;\n",
              "  color: #000000;\n",
              "}\n",
              "#T_d0ef7_row2_col4, #T_d0ef7_row8_col6 {\n",
              "  font-size: 6pt;\n",
              "  background-color: #6b6b6b;\n",
              "  color: #f1f1f1;\n",
              "}\n",
              "#T_d0ef7_row2_col8, #T_d0ef7_row2_col14, #T_d0ef7_row3_col14 {\n",
              "  font-size: 6pt;\n",
              "  background-color: #171717;\n",
              "  color: #f1f1f1;\n",
              "}\n",
              "#T_d0ef7_row2_col9, #T_d0ef7_row3_col11 {\n",
              "  font-size: 6pt;\n",
              "  background-color: #4b4b4b;\n",
              "  color: #f1f1f1;\n",
              "}\n",
              "#T_d0ef7_row2_col10, #T_d0ef7_row7_col10, #T_d0ef7_row8_col8, #T_d0ef7_row8_col10, #T_d0ef7_row9_col8, #T_d0ef7_row9_col10 {\n",
              "  font-size: 6pt;\n",
              "  background-color: #010101;\n",
              "  color: #f1f1f1;\n",
              "}\n",
              "#T_d0ef7_row3_col1 {\n",
              "  font-size: 6pt;\n",
              "  background-color: #272727;\n",
              "  color: #f1f1f1;\n",
              "}\n",
              "#T_d0ef7_row3_col2 {\n",
              "  font-size: 6pt;\n",
              "  background-color: #0a0a0a;\n",
              "  color: #f1f1f1;\n",
              "}\n",
              "#T_d0ef7_row3_col3 {\n",
              "  font-size: 6pt;\n",
              "  background-color: #050505;\n",
              "  color: #f1f1f1;\n",
              "}\n",
              "#T_d0ef7_row3_col5 {\n",
              "  font-size: 6pt;\n",
              "  background-color: #333333;\n",
              "  color: #f1f1f1;\n",
              "}\n",
              "#T_d0ef7_row3_col6 {\n",
              "  font-size: 6pt;\n",
              "  background-color: #e6e6e6;\n",
              "  color: #000000;\n",
              "}\n",
              "#T_d0ef7_row3_col7, #T_d0ef7_row3_col10 {\n",
              "  font-size: 6pt;\n",
              "  background-color: #fafafa;\n",
              "  color: #000000;\n",
              "}\n",
              "#T_d0ef7_row3_col8 {\n",
              "  font-size: 6pt;\n",
              "  background-color: #fbfbfb;\n",
              "  color: #000000;\n",
              "}\n",
              "#T_d0ef7_row3_col9 {\n",
              "  font-size: 6pt;\n",
              "  background-color: #fdfdfd;\n",
              "  color: #000000;\n",
              "}\n",
              "#T_d0ef7_row4_col4 {\n",
              "  font-size: 6pt;\n",
              "  background-color: #1b1b1b;\n",
              "  color: #f1f1f1;\n",
              "}\n",
              "#T_d0ef7_row4_col5 {\n",
              "  font-size: 6pt;\n",
              "  background-color: #e0e0e0;\n",
              "  color: #000000;\n",
              "}\n",
              "#T_d0ef7_row4_col11 {\n",
              "  font-size: 6pt;\n",
              "  background-color: #4e4e4e;\n",
              "  color: #f1f1f1;\n",
              "}\n",
              "#T_d0ef7_row4_col14 {\n",
              "  font-size: 6pt;\n",
              "  background-color: #767676;\n",
              "  color: #f1f1f1;\n",
              "}\n",
              "#T_d0ef7_row5_col1 {\n",
              "  font-size: 6pt;\n",
              "  background-color: #fcfcfc;\n",
              "  color: #000000;\n",
              "}\n",
              "#T_d0ef7_row5_col2, #T_d0ef7_row5_col3 {\n",
              "  font-size: 6pt;\n",
              "  background-color: #f6f6f6;\n",
              "  color: #000000;\n",
              "}\n",
              "#T_d0ef7_row5_col4, #T_d0ef7_row7_col7 {\n",
              "  font-size: 6pt;\n",
              "  background-color: #f8f8f8;\n",
              "  color: #000000;\n",
              "}\n",
              "#T_d0ef7_row5_col10, #T_d0ef7_row10_col7 {\n",
              "  font-size: 6pt;\n",
              "  background-color: #e8e8e8;\n",
              "  color: #000000;\n",
              "}\n",
              "#T_d0ef7_row5_col11 {\n",
              "  font-size: 6pt;\n",
              "  background-color: #222222;\n",
              "  color: #f1f1f1;\n",
              "}\n",
              "#T_d0ef7_row5_col13, #T_d0ef7_row6_col12 {\n",
              "  font-size: 6pt;\n",
              "  background-color: #090909;\n",
              "  color: #f1f1f1;\n",
              "}\n",
              "#T_d0ef7_row5_col14 {\n",
              "  font-size: 6pt;\n",
              "  background-color: #d0d0d0;\n",
              "  color: #000000;\n",
              "}\n",
              "#T_d0ef7_row6_col10, #T_d0ef7_row7_col11, #T_d0ef7_row9_col6 {\n",
              "  font-size: 6pt;\n",
              "  background-color: #060606;\n",
              "  color: #f1f1f1;\n",
              "}\n",
              "#T_d0ef7_row6_col13 {\n",
              "  font-size: 6pt;\n",
              "  background-color: #979797;\n",
              "  color: #f1f1f1;\n",
              "}\n",
              "#T_d0ef7_row7_col8 {\n",
              "  font-size: 6pt;\n",
              "  background-color: #b6b6b6;\n",
              "  color: #000000;\n",
              "}\n",
              "#T_d0ef7_row7_col9 {\n",
              "  font-size: 6pt;\n",
              "  background-color: #252525;\n",
              "  color: #f1f1f1;\n",
              "}\n",
              "#T_d0ef7_row7_col12 {\n",
              "  font-size: 6pt;\n",
              "  background-color: #999999;\n",
              "  color: #f1f1f1;\n",
              "}\n",
              "#T_d0ef7_row8_col5 {\n",
              "  font-size: 6pt;\n",
              "  background-color: #f9f9f9;\n",
              "  color: #000000;\n",
              "}\n",
              "#T_d0ef7_row8_col7 {\n",
              "  font-size: 6pt;\n",
              "  background-color: #101010;\n",
              "  color: #f1f1f1;\n",
              "}\n",
              "#T_d0ef7_row8_col9, #T_d0ef7_row9_col9 {\n",
              "  font-size: 6pt;\n",
              "  background-color: #020202;\n",
              "  color: #f1f1f1;\n",
              "}\n",
              "#T_d0ef7_row8_col11 {\n",
              "  font-size: 6pt;\n",
              "  background-color: #545454;\n",
              "  color: #f1f1f1;\n",
              "}\n",
              "#T_d0ef7_row8_col12 {\n",
              "  font-size: 6pt;\n",
              "  background-color: #f1f1f1;\n",
              "  color: #000000;\n",
              "}\n",
              "#T_d0ef7_row9_col5 {\n",
              "  font-size: 6pt;\n",
              "  background-color: #f7f7f7;\n",
              "  color: #000000;\n",
              "}\n",
              "#T_d0ef7_row9_col7 {\n",
              "  font-size: 6pt;\n",
              "  background-color: #030303;\n",
              "  color: #f1f1f1;\n",
              "}\n",
              "#T_d0ef7_row9_col12 {\n",
              "  font-size: 6pt;\n",
              "  background-color: #181818;\n",
              "  color: #f1f1f1;\n",
              "}\n",
              "#T_d0ef7_row9_col13 {\n",
              "  font-size: 6pt;\n",
              "  background-color: #303030;\n",
              "  color: #f1f1f1;\n",
              "}\n",
              "#T_d0ef7_row9_col14 {\n",
              "  font-size: 6pt;\n",
              "  background-color: #a9a9a9;\n",
              "  color: #f1f1f1;\n",
              "}\n",
              "#T_d0ef7_row9_col15 {\n",
              "  font-size: 6pt;\n",
              "  background-color: #fefefe;\n",
              "  color: #000000;\n",
              "}\n",
              "#T_d0ef7_row10_col8, #T_d0ef7_row10_col9 {\n",
              "  font-size: 6pt;\n",
              "  background-color: #bababa;\n",
              "  color: #000000;\n",
              "}\n",
              "#T_d0ef7_row10_col10 {\n",
              "  font-size: 6pt;\n",
              "  background-color: #393939;\n",
              "  color: #f1f1f1;\n",
              "}\n",
              "</style>\n",
              "<table id=\"T_d0ef7_\" class=\"dataframe\">\n",
              "  <thead>\n",
              "    <tr>\n",
              "      <th class=\"blank level0\" >&nbsp;</th>\n",
              "      <th class=\"col_heading level0 col0\" >0</th>\n",
              "      <th class=\"col_heading level0 col1\" >1</th>\n",
              "      <th class=\"col_heading level0 col2\" >2</th>\n",
              "      <th class=\"col_heading level0 col3\" >3</th>\n",
              "      <th class=\"col_heading level0 col4\" >4</th>\n",
              "      <th class=\"col_heading level0 col5\" >5</th>\n",
              "      <th class=\"col_heading level0 col6\" >6</th>\n",
              "      <th class=\"col_heading level0 col7\" >7</th>\n",
              "      <th class=\"col_heading level0 col8\" >8</th>\n",
              "      <th class=\"col_heading level0 col9\" >9</th>\n",
              "      <th class=\"col_heading level0 col10\" >10</th>\n",
              "      <th class=\"col_heading level0 col11\" >11</th>\n",
              "      <th class=\"col_heading level0 col12\" >12</th>\n",
              "      <th class=\"col_heading level0 col13\" >13</th>\n",
              "      <th class=\"col_heading level0 col14\" >14</th>\n",
              "      <th class=\"col_heading level0 col15\" >15</th>\n",
              "      <th class=\"col_heading level0 col16\" >16</th>\n",
              "      <th class=\"col_heading level0 col17\" >17</th>\n",
              "    </tr>\n",
              "  </thead>\n",
              "  <tbody>\n",
              "    <tr>\n",
              "      <th id=\"T_d0ef7_level0_row0\" class=\"row_heading level0 row0\" >0</th>\n",
              "      <td id=\"T_d0ef7_row0_col0\" class=\"data row0 col0\" >0</td>\n",
              "      <td id=\"T_d0ef7_row0_col1\" class=\"data row0 col1\" >0</td>\n",
              "      <td id=\"T_d0ef7_row0_col2\" class=\"data row0 col2\" >0</td>\n",
              "      <td id=\"T_d0ef7_row0_col3\" class=\"data row0 col3\" >0</td>\n",
              "      <td id=\"T_d0ef7_row0_col4\" class=\"data row0 col4\" >0</td>\n",
              "      <td id=\"T_d0ef7_row0_col5\" class=\"data row0 col5\" >0</td>\n",
              "      <td id=\"T_d0ef7_row0_col6\" class=\"data row0 col6\" >0</td>\n",
              "      <td id=\"T_d0ef7_row0_col7\" class=\"data row0 col7\" >0</td>\n",
              "      <td id=\"T_d0ef7_row0_col8\" class=\"data row0 col8\" >0</td>\n",
              "      <td id=\"T_d0ef7_row0_col9\" class=\"data row0 col9\" >0</td>\n",
              "      <td id=\"T_d0ef7_row0_col10\" class=\"data row0 col10\" >0</td>\n",
              "      <td id=\"T_d0ef7_row0_col11\" class=\"data row0 col11\" >0</td>\n",
              "      <td id=\"T_d0ef7_row0_col12\" class=\"data row0 col12\" >0</td>\n",
              "      <td id=\"T_d0ef7_row0_col13\" class=\"data row0 col13\" >0</td>\n",
              "      <td id=\"T_d0ef7_row0_col14\" class=\"data row0 col14\" >0</td>\n",
              "      <td id=\"T_d0ef7_row0_col15\" class=\"data row0 col15\" >0</td>\n",
              "      <td id=\"T_d0ef7_row0_col16\" class=\"data row0 col16\" >0</td>\n",
              "      <td id=\"T_d0ef7_row0_col17\" class=\"data row0 col17\" >0</td>\n",
              "    </tr>\n",
              "    <tr>\n",
              "      <th id=\"T_d0ef7_level0_row1\" class=\"row_heading level0 row1\" >1</th>\n",
              "      <td id=\"T_d0ef7_row1_col0\" class=\"data row1 col0\" >0</td>\n",
              "      <td id=\"T_d0ef7_row1_col1\" class=\"data row1 col1\" >0</td>\n",
              "      <td id=\"T_d0ef7_row1_col2\" class=\"data row1 col2\" >0</td>\n",
              "      <td id=\"T_d0ef7_row1_col3\" class=\"data row1 col3\" >0</td>\n",
              "      <td id=\"T_d0ef7_row1_col4\" class=\"data row1 col4\" >0</td>\n",
              "      <td id=\"T_d0ef7_row1_col5\" class=\"data row1 col5\" >29</td>\n",
              "      <td id=\"T_d0ef7_row1_col6\" class=\"data row1 col6\" >150</td>\n",
              "      <td id=\"T_d0ef7_row1_col7\" class=\"data row1 col7\" >195</td>\n",
              "      <td id=\"T_d0ef7_row1_col8\" class=\"data row1 col8\" >254</td>\n",
              "      <td id=\"T_d0ef7_row1_col9\" class=\"data row1 col9\" >255</td>\n",
              "      <td id=\"T_d0ef7_row1_col10\" class=\"data row1 col10\" >254</td>\n",
              "      <td id=\"T_d0ef7_row1_col11\" class=\"data row1 col11\" >176</td>\n",
              "      <td id=\"T_d0ef7_row1_col12\" class=\"data row1 col12\" >193</td>\n",
              "      <td id=\"T_d0ef7_row1_col13\" class=\"data row1 col13\" >150</td>\n",
              "      <td id=\"T_d0ef7_row1_col14\" class=\"data row1 col14\" >96</td>\n",
              "      <td id=\"T_d0ef7_row1_col15\" class=\"data row1 col15\" >0</td>\n",
              "      <td id=\"T_d0ef7_row1_col16\" class=\"data row1 col16\" >0</td>\n",
              "      <td id=\"T_d0ef7_row1_col17\" class=\"data row1 col17\" >0</td>\n",
              "    </tr>\n",
              "    <tr>\n",
              "      <th id=\"T_d0ef7_level0_row2\" class=\"row_heading level0 row2\" >2</th>\n",
              "      <td id=\"T_d0ef7_row2_col0\" class=\"data row2 col0\" >0</td>\n",
              "      <td id=\"T_d0ef7_row2_col1\" class=\"data row2 col1\" >0</td>\n",
              "      <td id=\"T_d0ef7_row2_col2\" class=\"data row2 col2\" >0</td>\n",
              "      <td id=\"T_d0ef7_row2_col3\" class=\"data row2 col3\" >48</td>\n",
              "      <td id=\"T_d0ef7_row2_col4\" class=\"data row2 col4\" >166</td>\n",
              "      <td id=\"T_d0ef7_row2_col5\" class=\"data row2 col5\" >224</td>\n",
              "      <td id=\"T_d0ef7_row2_col6\" class=\"data row2 col6\" >253</td>\n",
              "      <td id=\"T_d0ef7_row2_col7\" class=\"data row2 col7\" >253</td>\n",
              "      <td id=\"T_d0ef7_row2_col8\" class=\"data row2 col8\" >234</td>\n",
              "      <td id=\"T_d0ef7_row2_col9\" class=\"data row2 col9\" >196</td>\n",
              "      <td id=\"T_d0ef7_row2_col10\" class=\"data row2 col10\" >253</td>\n",
              "      <td id=\"T_d0ef7_row2_col11\" class=\"data row2 col11\" >253</td>\n",
              "      <td id=\"T_d0ef7_row2_col12\" class=\"data row2 col12\" >253</td>\n",
              "      <td id=\"T_d0ef7_row2_col13\" class=\"data row2 col13\" >253</td>\n",
              "      <td id=\"T_d0ef7_row2_col14\" class=\"data row2 col14\" >233</td>\n",
              "      <td id=\"T_d0ef7_row2_col15\" class=\"data row2 col15\" >0</td>\n",
              "      <td id=\"T_d0ef7_row2_col16\" class=\"data row2 col16\" >0</td>\n",
              "      <td id=\"T_d0ef7_row2_col17\" class=\"data row2 col17\" >0</td>\n",
              "    </tr>\n",
              "    <tr>\n",
              "      <th id=\"T_d0ef7_level0_row3\" class=\"row_heading level0 row3\" >3</th>\n",
              "      <td id=\"T_d0ef7_row3_col0\" class=\"data row3 col0\" >0</td>\n",
              "      <td id=\"T_d0ef7_row3_col1\" class=\"data row3 col1\" >93</td>\n",
              "      <td id=\"T_d0ef7_row3_col2\" class=\"data row3 col2\" >244</td>\n",
              "      <td id=\"T_d0ef7_row3_col3\" class=\"data row3 col3\" >249</td>\n",
              "      <td id=\"T_d0ef7_row3_col4\" class=\"data row3 col4\" >253</td>\n",
              "      <td id=\"T_d0ef7_row3_col5\" class=\"data row3 col5\" >187</td>\n",
              "      <td id=\"T_d0ef7_row3_col6\" class=\"data row3 col6\" >46</td>\n",
              "      <td id=\"T_d0ef7_row3_col7\" class=\"data row3 col7\" >10</td>\n",
              "      <td id=\"T_d0ef7_row3_col8\" class=\"data row3 col8\" >8</td>\n",
              "      <td id=\"T_d0ef7_row3_col9\" class=\"data row3 col9\" >4</td>\n",
              "      <td id=\"T_d0ef7_row3_col10\" class=\"data row3 col10\" >10</td>\n",
              "      <td id=\"T_d0ef7_row3_col11\" class=\"data row3 col11\" >194</td>\n",
              "      <td id=\"T_d0ef7_row3_col12\" class=\"data row3 col12\" >253</td>\n",
              "      <td id=\"T_d0ef7_row3_col13\" class=\"data row3 col13\" >253</td>\n",
              "      <td id=\"T_d0ef7_row3_col14\" class=\"data row3 col14\" >233</td>\n",
              "      <td id=\"T_d0ef7_row3_col15\" class=\"data row3 col15\" >0</td>\n",
              "      <td id=\"T_d0ef7_row3_col16\" class=\"data row3 col16\" >0</td>\n",
              "      <td id=\"T_d0ef7_row3_col17\" class=\"data row3 col17\" >0</td>\n",
              "    </tr>\n",
              "    <tr>\n",
              "      <th id=\"T_d0ef7_level0_row4\" class=\"row_heading level0 row4\" >4</th>\n",
              "      <td id=\"T_d0ef7_row4_col0\" class=\"data row4 col0\" >0</td>\n",
              "      <td id=\"T_d0ef7_row4_col1\" class=\"data row4 col1\" >107</td>\n",
              "      <td id=\"T_d0ef7_row4_col2\" class=\"data row4 col2\" >253</td>\n",
              "      <td id=\"T_d0ef7_row4_col3\" class=\"data row4 col3\" >253</td>\n",
              "      <td id=\"T_d0ef7_row4_col4\" class=\"data row4 col4\" >230</td>\n",
              "      <td id=\"T_d0ef7_row4_col5\" class=\"data row4 col5\" >48</td>\n",
              "      <td id=\"T_d0ef7_row4_col6\" class=\"data row4 col6\" >0</td>\n",
              "      <td id=\"T_d0ef7_row4_col7\" class=\"data row4 col7\" >0</td>\n",
              "      <td id=\"T_d0ef7_row4_col8\" class=\"data row4 col8\" >0</td>\n",
              "      <td id=\"T_d0ef7_row4_col9\" class=\"data row4 col9\" >0</td>\n",
              "      <td id=\"T_d0ef7_row4_col10\" class=\"data row4 col10\" >0</td>\n",
              "      <td id=\"T_d0ef7_row4_col11\" class=\"data row4 col11\" >192</td>\n",
              "      <td id=\"T_d0ef7_row4_col12\" class=\"data row4 col12\" >253</td>\n",
              "      <td id=\"T_d0ef7_row4_col13\" class=\"data row4 col13\" >253</td>\n",
              "      <td id=\"T_d0ef7_row4_col14\" class=\"data row4 col14\" >156</td>\n",
              "      <td id=\"T_d0ef7_row4_col15\" class=\"data row4 col15\" >0</td>\n",
              "      <td id=\"T_d0ef7_row4_col16\" class=\"data row4 col16\" >0</td>\n",
              "      <td id=\"T_d0ef7_row4_col17\" class=\"data row4 col17\" >0</td>\n",
              "    </tr>\n",
              "    <tr>\n",
              "      <th id=\"T_d0ef7_level0_row5\" class=\"row_heading level0 row5\" >5</th>\n",
              "      <td id=\"T_d0ef7_row5_col0\" class=\"data row5 col0\" >0</td>\n",
              "      <td id=\"T_d0ef7_row5_col1\" class=\"data row5 col1\" >3</td>\n",
              "      <td id=\"T_d0ef7_row5_col2\" class=\"data row5 col2\" >20</td>\n",
              "      <td id=\"T_d0ef7_row5_col3\" class=\"data row5 col3\" >20</td>\n",
              "      <td id=\"T_d0ef7_row5_col4\" class=\"data row5 col4\" >15</td>\n",
              "      <td id=\"T_d0ef7_row5_col5\" class=\"data row5 col5\" >0</td>\n",
              "      <td id=\"T_d0ef7_row5_col6\" class=\"data row5 col6\" >0</td>\n",
              "      <td id=\"T_d0ef7_row5_col7\" class=\"data row5 col7\" >0</td>\n",
              "      <td id=\"T_d0ef7_row5_col8\" class=\"data row5 col8\" >0</td>\n",
              "      <td id=\"T_d0ef7_row5_col9\" class=\"data row5 col9\" >0</td>\n",
              "      <td id=\"T_d0ef7_row5_col10\" class=\"data row5 col10\" >43</td>\n",
              "      <td id=\"T_d0ef7_row5_col11\" class=\"data row5 col11\" >224</td>\n",
              "      <td id=\"T_d0ef7_row5_col12\" class=\"data row5 col12\" >253</td>\n",
              "      <td id=\"T_d0ef7_row5_col13\" class=\"data row5 col13\" >245</td>\n",
              "      <td id=\"T_d0ef7_row5_col14\" class=\"data row5 col14\" >74</td>\n",
              "      <td id=\"T_d0ef7_row5_col15\" class=\"data row5 col15\" >0</td>\n",
              "      <td id=\"T_d0ef7_row5_col16\" class=\"data row5 col16\" >0</td>\n",
              "      <td id=\"T_d0ef7_row5_col17\" class=\"data row5 col17\" >0</td>\n",
              "    </tr>\n",
              "    <tr>\n",
              "      <th id=\"T_d0ef7_level0_row6\" class=\"row_heading level0 row6\" >6</th>\n",
              "      <td id=\"T_d0ef7_row6_col0\" class=\"data row6 col0\" >0</td>\n",
              "      <td id=\"T_d0ef7_row6_col1\" class=\"data row6 col1\" >0</td>\n",
              "      <td id=\"T_d0ef7_row6_col2\" class=\"data row6 col2\" >0</td>\n",
              "      <td id=\"T_d0ef7_row6_col3\" class=\"data row6 col3\" >0</td>\n",
              "      <td id=\"T_d0ef7_row6_col4\" class=\"data row6 col4\" >0</td>\n",
              "      <td id=\"T_d0ef7_row6_col5\" class=\"data row6 col5\" >0</td>\n",
              "      <td id=\"T_d0ef7_row6_col6\" class=\"data row6 col6\" >0</td>\n",
              "      <td id=\"T_d0ef7_row6_col7\" class=\"data row6 col7\" >0</td>\n",
              "      <td id=\"T_d0ef7_row6_col8\" class=\"data row6 col8\" >0</td>\n",
              "      <td id=\"T_d0ef7_row6_col9\" class=\"data row6 col9\" >0</td>\n",
              "      <td id=\"T_d0ef7_row6_col10\" class=\"data row6 col10\" >249</td>\n",
              "      <td id=\"T_d0ef7_row6_col11\" class=\"data row6 col11\" >253</td>\n",
              "      <td id=\"T_d0ef7_row6_col12\" class=\"data row6 col12\" >245</td>\n",
              "      <td id=\"T_d0ef7_row6_col13\" class=\"data row6 col13\" >126</td>\n",
              "      <td id=\"T_d0ef7_row6_col14\" class=\"data row6 col14\" >0</td>\n",
              "      <td id=\"T_d0ef7_row6_col15\" class=\"data row6 col15\" >0</td>\n",
              "      <td id=\"T_d0ef7_row6_col16\" class=\"data row6 col16\" >0</td>\n",
              "      <td id=\"T_d0ef7_row6_col17\" class=\"data row6 col17\" >0</td>\n",
              "    </tr>\n",
              "    <tr>\n",
              "      <th id=\"T_d0ef7_level0_row7\" class=\"row_heading level0 row7\" >7</th>\n",
              "      <td id=\"T_d0ef7_row7_col0\" class=\"data row7 col0\" >0</td>\n",
              "      <td id=\"T_d0ef7_row7_col1\" class=\"data row7 col1\" >0</td>\n",
              "      <td id=\"T_d0ef7_row7_col2\" class=\"data row7 col2\" >0</td>\n",
              "      <td id=\"T_d0ef7_row7_col3\" class=\"data row7 col3\" >0</td>\n",
              "      <td id=\"T_d0ef7_row7_col4\" class=\"data row7 col4\" >0</td>\n",
              "      <td id=\"T_d0ef7_row7_col5\" class=\"data row7 col5\" >0</td>\n",
              "      <td id=\"T_d0ef7_row7_col6\" class=\"data row7 col6\" >0</td>\n",
              "      <td id=\"T_d0ef7_row7_col7\" class=\"data row7 col7\" >14</td>\n",
              "      <td id=\"T_d0ef7_row7_col8\" class=\"data row7 col8\" >101</td>\n",
              "      <td id=\"T_d0ef7_row7_col9\" class=\"data row7 col9\" >223</td>\n",
              "      <td id=\"T_d0ef7_row7_col10\" class=\"data row7 col10\" >253</td>\n",
              "      <td id=\"T_d0ef7_row7_col11\" class=\"data row7 col11\" >248</td>\n",
              "      <td id=\"T_d0ef7_row7_col12\" class=\"data row7 col12\" >124</td>\n",
              "      <td id=\"T_d0ef7_row7_col13\" class=\"data row7 col13\" >0</td>\n",
              "      <td id=\"T_d0ef7_row7_col14\" class=\"data row7 col14\" >0</td>\n",
              "      <td id=\"T_d0ef7_row7_col15\" class=\"data row7 col15\" >0</td>\n",
              "      <td id=\"T_d0ef7_row7_col16\" class=\"data row7 col16\" >0</td>\n",
              "      <td id=\"T_d0ef7_row7_col17\" class=\"data row7 col17\" >0</td>\n",
              "    </tr>\n",
              "    <tr>\n",
              "      <th id=\"T_d0ef7_level0_row8\" class=\"row_heading level0 row8\" >8</th>\n",
              "      <td id=\"T_d0ef7_row8_col0\" class=\"data row8 col0\" >0</td>\n",
              "      <td id=\"T_d0ef7_row8_col1\" class=\"data row8 col1\" >0</td>\n",
              "      <td id=\"T_d0ef7_row8_col2\" class=\"data row8 col2\" >0</td>\n",
              "      <td id=\"T_d0ef7_row8_col3\" class=\"data row8 col3\" >0</td>\n",
              "      <td id=\"T_d0ef7_row8_col4\" class=\"data row8 col4\" >0</td>\n",
              "      <td id=\"T_d0ef7_row8_col5\" class=\"data row8 col5\" >11</td>\n",
              "      <td id=\"T_d0ef7_row8_col6\" class=\"data row8 col6\" >166</td>\n",
              "      <td id=\"T_d0ef7_row8_col7\" class=\"data row8 col7\" >239</td>\n",
              "      <td id=\"T_d0ef7_row8_col8\" class=\"data row8 col8\" >253</td>\n",
              "      <td id=\"T_d0ef7_row8_col9\" class=\"data row8 col9\" >253</td>\n",
              "      <td id=\"T_d0ef7_row8_col10\" class=\"data row8 col10\" >253</td>\n",
              "      <td id=\"T_d0ef7_row8_col11\" class=\"data row8 col11\" >187</td>\n",
              "      <td id=\"T_d0ef7_row8_col12\" class=\"data row8 col12\" >30</td>\n",
              "      <td id=\"T_d0ef7_row8_col13\" class=\"data row8 col13\" >0</td>\n",
              "      <td id=\"T_d0ef7_row8_col14\" class=\"data row8 col14\" >0</td>\n",
              "      <td id=\"T_d0ef7_row8_col15\" class=\"data row8 col15\" >0</td>\n",
              "      <td id=\"T_d0ef7_row8_col16\" class=\"data row8 col16\" >0</td>\n",
              "      <td id=\"T_d0ef7_row8_col17\" class=\"data row8 col17\" >0</td>\n",
              "    </tr>\n",
              "    <tr>\n",
              "      <th id=\"T_d0ef7_level0_row9\" class=\"row_heading level0 row9\" >9</th>\n",
              "      <td id=\"T_d0ef7_row9_col0\" class=\"data row9 col0\" >0</td>\n",
              "      <td id=\"T_d0ef7_row9_col1\" class=\"data row9 col1\" >0</td>\n",
              "      <td id=\"T_d0ef7_row9_col2\" class=\"data row9 col2\" >0</td>\n",
              "      <td id=\"T_d0ef7_row9_col3\" class=\"data row9 col3\" >0</td>\n",
              "      <td id=\"T_d0ef7_row9_col4\" class=\"data row9 col4\" >0</td>\n",
              "      <td id=\"T_d0ef7_row9_col5\" class=\"data row9 col5\" >16</td>\n",
              "      <td id=\"T_d0ef7_row9_col6\" class=\"data row9 col6\" >248</td>\n",
              "      <td id=\"T_d0ef7_row9_col7\" class=\"data row9 col7\" >250</td>\n",
              "      <td id=\"T_d0ef7_row9_col8\" class=\"data row9 col8\" >253</td>\n",
              "      <td id=\"T_d0ef7_row9_col9\" class=\"data row9 col9\" >253</td>\n",
              "      <td id=\"T_d0ef7_row9_col10\" class=\"data row9 col10\" >253</td>\n",
              "      <td id=\"T_d0ef7_row9_col11\" class=\"data row9 col11\" >253</td>\n",
              "      <td id=\"T_d0ef7_row9_col12\" class=\"data row9 col12\" >232</td>\n",
              "      <td id=\"T_d0ef7_row9_col13\" class=\"data row9 col13\" >213</td>\n",
              "      <td id=\"T_d0ef7_row9_col14\" class=\"data row9 col14\" >111</td>\n",
              "      <td id=\"T_d0ef7_row9_col15\" class=\"data row9 col15\" >2</td>\n",
              "      <td id=\"T_d0ef7_row9_col16\" class=\"data row9 col16\" >0</td>\n",
              "      <td id=\"T_d0ef7_row9_col17\" class=\"data row9 col17\" >0</td>\n",
              "    </tr>\n",
              "    <tr>\n",
              "      <th id=\"T_d0ef7_level0_row10\" class=\"row_heading level0 row10\" >10</th>\n",
              "      <td id=\"T_d0ef7_row10_col0\" class=\"data row10 col0\" >0</td>\n",
              "      <td id=\"T_d0ef7_row10_col1\" class=\"data row10 col1\" >0</td>\n",
              "      <td id=\"T_d0ef7_row10_col2\" class=\"data row10 col2\" >0</td>\n",
              "      <td id=\"T_d0ef7_row10_col3\" class=\"data row10 col3\" >0</td>\n",
              "      <td id=\"T_d0ef7_row10_col4\" class=\"data row10 col4\" >0</td>\n",
              "      <td id=\"T_d0ef7_row10_col5\" class=\"data row10 col5\" >0</td>\n",
              "      <td id=\"T_d0ef7_row10_col6\" class=\"data row10 col6\" >0</td>\n",
              "      <td id=\"T_d0ef7_row10_col7\" class=\"data row10 col7\" >43</td>\n",
              "      <td id=\"T_d0ef7_row10_col8\" class=\"data row10 col8\" >98</td>\n",
              "      <td id=\"T_d0ef7_row10_col9\" class=\"data row10 col9\" >98</td>\n",
              "      <td id=\"T_d0ef7_row10_col10\" class=\"data row10 col10\" >208</td>\n",
              "      <td id=\"T_d0ef7_row10_col11\" class=\"data row10 col11\" >253</td>\n",
              "      <td id=\"T_d0ef7_row10_col12\" class=\"data row10 col12\" >253</td>\n",
              "      <td id=\"T_d0ef7_row10_col13\" class=\"data row10 col13\" >253</td>\n",
              "      <td id=\"T_d0ef7_row10_col14\" class=\"data row10 col14\" >253</td>\n",
              "      <td id=\"T_d0ef7_row10_col15\" class=\"data row10 col15\" >187</td>\n",
              "      <td id=\"T_d0ef7_row10_col16\" class=\"data row10 col16\" >22</td>\n",
              "      <td id=\"T_d0ef7_row10_col17\" class=\"data row10 col17\" >0</td>\n",
              "    </tr>\n",
              "  </tbody>\n",
              "</table>\n"
            ]
          },
          "metadata": {},
          "execution_count": 13
        }
      ]
    }
  ]
}