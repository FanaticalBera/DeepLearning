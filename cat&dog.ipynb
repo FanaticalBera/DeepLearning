{
  "cells": [
    {
      "cell_type": "markdown",
      "metadata": {
        "id": "view-in-github",
        "colab_type": "text"
      },
      "source": [
        "<a href=\"https://colab.research.google.com/github/FanaticalBera/DeepLearning/blob/main/cat%26dog.ipynb\" target=\"_parent\"><img src=\"https://colab.research.google.com/assets/colab-badge.svg\" alt=\"Open In Colab\"/></a>"
      ]
    },
    {
      "cell_type": "code",
      "execution_count": null,
      "metadata": {
        "colab": {
          "background_save": true,
          "base_uri": "https://localhost:8080/",
          "height": 160
        },
        "id": "gDR7UViNWPtj",
        "outputId": "5a8fe90c-33a6-4765-9b69-caedc75eb7c1"
      },
      "outputs": [
        {
          "data": {
            "text/html": [
              "\n",
              "<style>\n",
              "    /* Turns off some styling */\n",
              "    progress {\n",
              "        /* gets rid of default border in Firefox and Opera. */\n",
              "        border: none;\n",
              "        /* Needs to be in here for Safari polyfill so background images work as expected. */\n",
              "        background-size: auto;\n",
              "    }\n",
              "    progress:not([value]), progress:not([value])::-webkit-progress-bar {\n",
              "        background: repeating-linear-gradient(45deg, #7e7e7e, #7e7e7e 10px, #5c5c5c 10px, #5c5c5c 20px);\n",
              "    }\n",
              "    .progress-bar-interrupted, .progress-bar-interrupted::-webkit-progress-bar {\n",
              "        background: #F44336;\n",
              "    }\n",
              "</style>\n"
            ],
            "text/plain": [
              "<IPython.core.display.HTML object>"
            ]
          },
          "metadata": {},
          "output_type": "display_data"
        },
        {
          "data": {
            "text/html": [
              "<table border=\"1\" class=\"dataframe\">\n",
              "  <thead>\n",
              "    <tr style=\"text-align: left;\">\n",
              "      <th>epoch</th>\n",
              "      <th>train_loss</th>\n",
              "      <th>valid_loss</th>\n",
              "      <th>error_rate</th>\n",
              "      <th>time</th>\n",
              "    </tr>\n",
              "  </thead>\n",
              "  <tbody>\n",
              "    <tr>\n",
              "      <td>0</td>\n",
              "      <td>0.180860</td>\n",
              "      <td>0.023308</td>\n",
              "      <td>0.008119</td>\n",
              "      <td>35:25</td>\n",
              "    </tr>\n",
              "  </tbody>\n",
              "</table>"
            ],
            "text/plain": [
              "<IPython.core.display.HTML object>"
            ]
          },
          "metadata": {},
          "output_type": "display_data"
        },
        {
          "data": {
            "text/html": [
              "\n",
              "<style>\n",
              "    /* Turns off some styling */\n",
              "    progress {\n",
              "        /* gets rid of default border in Firefox and Opera. */\n",
              "        border: none;\n",
              "        /* Needs to be in here for Safari polyfill so background images work as expected. */\n",
              "        background-size: auto;\n",
              "    }\n",
              "    progress:not([value]), progress:not([value])::-webkit-progress-bar {\n",
              "        background: repeating-linear-gradient(45deg, #7e7e7e, #7e7e7e 10px, #5c5c5c 10px, #5c5c5c 20px);\n",
              "    }\n",
              "    .progress-bar-interrupted, .progress-bar-interrupted::-webkit-progress-bar {\n",
              "        background: #F44336;\n",
              "    }\n",
              "</style>\n"
            ],
            "text/plain": [
              "<IPython.core.display.HTML object>"
            ]
          },
          "metadata": {},
          "output_type": "display_data"
        },
        {
          "data": {
            "text/html": [
              "<table border=\"1\" class=\"dataframe\">\n",
              "  <thead>\n",
              "    <tr style=\"text-align: left;\">\n",
              "      <th>epoch</th>\n",
              "      <th>train_loss</th>\n",
              "      <th>valid_loss</th>\n",
              "      <th>error_rate</th>\n",
              "      <th>time</th>\n",
              "    </tr>\n",
              "  </thead>\n",
              "  <tbody>\n",
              "    <tr>\n",
              "      <td>0</td>\n",
              "      <td>0.054319</td>\n",
              "      <td>0.012391</td>\n",
              "      <td>0.003383</td>\n",
              "      <td>51:45</td>\n",
              "    </tr>\n",
              "  </tbody>\n",
              "</table>"
            ],
            "text/plain": [
              "<IPython.core.display.HTML object>"
            ]
          },
          "metadata": {},
          "output_type": "display_data"
        }
      ],
      "source": [
        "from fastai.vision.all import * \n",
        "path = untar_data(URLs.PETS) /'images'\n",
        "\n",
        "def is_cat(x): return x[0].isupper()\n",
        "dls = ImageDataLoaders.from_name_func(\n",
        "    path, get_image_files(path), valid_pct=0.2, seed=42,\n",
        "    label_func=is_cat, item_tfms=Resize(224)) \n",
        "\n",
        "learn = cnn_learner(dls, resnet34, metrics=error_rate)\n",
        "learn.fine_tune(1)"
      ]
    },
    {
      "cell_type": "markdown",
      "source": [
        "from fastai.vision.all import * \n",
        "\n",
        "\n",
        "*   다양한 영상 처리 모델을 생성하는 데 필요한 모든 함수와 클래스가 포함\n",
        "*   import * 는 주피터 노트북과 같은 대화형 작업 환경에서 유리하다. 보통의 파이썬 개발에 있어서는 전체 라이브러리를 불러오는 것은 지양한다.\n",
        "\n"
      ],
      "metadata": {
        "id": "8lEGjBnNGazJ"
      }
    },
    {
      "cell_type": "markdown",
      "source": [
        "path = untar_data(URLs.PETS) /'images'\n",
        "\n",
        "\n",
        "*   fast.ai의 데이터 컬렉션에서 데이터 셋을 서버에 다운, 압축 해제 후에 추출된 위치를 Path 객체로 반환\n",
        "\n",
        "* Pet 데이터 셋은 37개 품종으로 구성된 개와 고양이 사진을 7,390장 포함 \n",
        "* 파일명은 이미지가 고양이라면 대문자로, 그렇지 않다면 소문자로 시작하는 규칙을 따름"
      ],
      "metadata": {
        "id": "UZG0qao3G_ov"
      }
    },
    {
      "cell_type": "markdown",
      "source": [
        "def is_cat(x): return x[0].isupper()\n",
        "\n",
        "\n",
        "*   데이터셋에 포함된 파일명의 규칙에 따라 고양이 레이블을 지정하는 is_cat 함수 정의 \n",
        "*   고양이면 True 강아지면 False 반환\n",
        "* x[0].isupper()\n",
        " * 문자열의 첫 문자가 대문자면, True를 반환\n",
        "\n"
      ],
      "metadata": {
        "id": "wmuzeXFCHp2S"
      }
    },
    {
      "cell_type": "markdown",
      "source": [
        "dls = ImageDataLoaders.from_name_func(\n",
        "    path, get_image_files(path), valid_pct=0.2, seed=42,\n",
        "    label_func=is_cat, item_tfms=Resize(224)) \n",
        "\n",
        "\n",
        "* fastai는 다양한 딥러닝 데이터셋과 문제에 사용할 수 있는 여러 클래스 제공 , 일반적으로 클래스 이름의 첫 부분은 Image, Text와 같은 데이터의 유형을 표현 \n",
        "\n",
        "*   마지막 부분은 Transform 목록을 지정, fastai는 미리 정의된 여러 가지 Transform을 제공하며, 새로운 Transform은 파이썬 함수를 만드는 수준으로 간단히 정의 가능 \n",
        "\n",
        "* 변형에는 두 종류가 있음 - item_tfms, batch_tfms\n",
        "\n",
        "  *   itme_tfms - 개별 데이터에 적용할 변형을 지정 \n",
        "  *   batch_tfms - 데이터 배치(뭉치)에 GPU가 빠르게 한 번에 처리할 변형을 지정\n",
        "\n",
        "* 224 pixel을 사용한 이유\n",
        " * 영상 처리 분야의 역사적인 이유로, 흔히 찾아볼 수 있는 크기 \n",
        " * 크기를 늘리면 더 나은 결과를 얻을 수 있지만, 속도와 메모리 소비량을 희생해야 함\n",
        "\n",
        "* 파일명에서 레이블을 가져오는 방법은 ImageDataLoaders의 from_name_func 메서드를 사용해서 label_func 인자에 label을 추출할 함수를 지정 -> is_cat 함수\n",
        "\n",
        "* *valid_pct=0,2*\n",
        " * 데이터의 20%를 모델 학습에 사용하지 말고, 따로 빼놓을 것\n",
        " * 20% 데이터를 검증용 데이터셋\n",
        "   * 검증용 데이터셋 - 모델의 정확도를 측정할 때 사용, 보통 임의로 선택해서 구성 \n",
        " * 나머지 80%를 학습용 데이터셋\n",
        "\n",
        "* seed=42 \n",
        "  * 코드를 실행할 때마다 동일한 임의성으로 검증용 데이터셋을 구성하도록 시드값을 고정한 부분 \n",
        "    * 데이터셋을 그대로 고정한다면 모델을 변경해 재학습하더라도 이전 모델과의 차이점을 쉽게 비교 가능 \n",
        " \n",
        "\n",
        "\n",
        "\n",
        "\n",
        "\n",
        "\n",
        "\n",
        "\n",
        "\n",
        "\n",
        "\n",
        "\n",
        "\n",
        "\n",
        "\n",
        "\n",
        "\n"
      ],
      "metadata": {
        "id": "Um3NpbTzH-rR"
      }
    },
    {
      "cell_type": "markdown",
      "source": [
        "learn = cnn_learner(dls, resnet34, metrics=error_rate)\n",
        "\n",
        "\n",
        "\n",
        "*   합성곱 신경망(convolutional neural network) CNN \n",
        "  * CNN은 영상 처리 모델을 만드는 최신 접근법\n",
        "*   학습에 사용할 데이터셋과 모델의 아키텍처 및 평가지표 지정 \n",
        "\n",
        "* resnet34 \n",
        "  * ResNet 모델 - 여러 데이터셋과 문제에서 빠르고 정확하게 작동하는 모델 \n",
        "  * 34는 이 구조에 있는 계층의 수를 의미(다른 버전도 존재함) \n",
        "    * 계층 구조가 많으면 많을수록 학습시간은 증가, 더 과적합되는 경향이 있음, 대신 더 많은 데이터를 학습시키면 더 정확한 결과 도출 가능 \n",
        "\n",
        "* 평가지표\n",
        "  * 예측의 품질을 측정하는 함수, 보통 매 에포크의 마지막에 출력 \n",
        "  * error_rate(오차율 함수) - 검증용 데이터셋 중 잘 못 분류된 이미지의 비율을 알려줌 \n",
        "\n"
      ],
      "metadata": {
        "id": "79V31CKuNq_6"
      }
    },
    {
      "cell_type": "markdown",
      "source": [
        "learn.fine_tune(1)\n",
        "\n",
        "*  모델을 적합시키기를 지시, 미세 조정\n"
      ],
      "metadata": {
        "id": "TfCvvxoANtbr"
      }
    }
  ],
  "metadata": {
    "colab": {
      "provenance": [],
      "authorship_tag": "ABX9TyP5sOO+Bf9QxdjZzCePtqHn",
      "include_colab_link": true
    },
    "kernelspec": {
      "display_name": "Python 3",
      "name": "python3"
    },
    "language_info": {
      "name": "python"
    }
  },
  "nbformat": 4,
  "nbformat_minor": 0
}