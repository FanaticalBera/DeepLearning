{
  "nbformat": 4,
  "nbformat_minor": 0,
  "metadata": {
    "colab": {
      "provenance": [],
      "authorship_tag": "ABX9TyNrgKIdk8rHRLeomWb1UZpu",
      "include_colab_link": true
    },
    "kernelspec": {
      "name": "python3",
      "display_name": "Python 3"
    },
    "language_info": {
      "name": "python"
    }
  },
  "cells": [
    {
      "cell_type": "markdown",
      "metadata": {
        "id": "view-in-github",
        "colab_type": "text"
      },
      "source": [
        "<a href=\"https://colab.research.google.com/github/FanaticalBera/DeepLearning/blob/main/%EC%9A%A9%EC%96%B4_%EC%A0%95%EB%A6%AC.ipynb\" target=\"_parent\"><img src=\"https://colab.research.google.com/assets/colab-badge.svg\" alt=\"Open In Colab\"/></a>"
      ]
    },
    {
      "cell_type": "markdown",
      "source": [
        "# 용어 정리 \n",
        "\n",
        "\n",
        "1.   분류 모델 \n",
        "  * 클래스나 범주를 예측하는 모델 ex) 개와 고양이처럼 여러 이산적인 가능성 예측  \n",
        "2.   회귀 모델 \n",
        "  * 온도, 위치와 같은 하나 이상의 수치형 수량을 예측하는 모델 \n",
        "3. 레이블\n",
        "  * '개'나 '고양이'처럼 예측하려는 데이터\n",
        "4. 구조/아키텍처 \n",
        "  * 적합하려는 모델의 템플릿(예: 입력 데이터와 파라미터를 전달받는 실제 수학 함수)\n",
        "5. 모델\n",
        "  * 특정 조합의 파라미터와 결합된 아키텍처\n",
        "6. 파라미터\n",
        "  * 모델이 학습되는 동안 갱신되어 모델이 하는 일을 바꾸는 값\n",
        "7. 적합\n",
        "  * 주어진 입력 데이터를 사용하는 모델의 예측이 타깃 레이블과 일치되게끔 모델의 파라미터를 갱신하는 과정\n",
        "8. 학습\n",
        "  * 적합의 동의어\n",
        "9. 사전 학습된 모델 \n",
        "  * 일반적으로 대규모 데이터셋에서 이미 학습되었으며 미세 조정해야 하는 모델\n",
        "10. 미세 조정\n",
        "  * 다른 작업을 위해 사전 학습된 모델을 갱신하는 과정\n",
        "11. 에포크\n",
        "  * 모든 입력 데이터가 모델에 한 번씩 통과된 상황\n",
        "12. 손실\n",
        "  * SGD가 학습을 이끄는 기준으로, 선택된 모델이 얼마나 좋은지를 측정\n",
        "13. 평가지표\n",
        "  * 사람이 직접 사용할 용도로, 선택된 모델이 검증용 데이터셋에서 얼마나 좋은지를 측정\n",
        "14. 검증용 데이터셋\n",
        "  * 모델이 얼마나 좋은지를 측정하는 데만 사용하려고 학습용 데이터셋에서 떼어낸 데이터 집합\n",
        "15. 학습용 데이터셋\n",
        "  * 모델을 적합시키는 데 사용하는 데이터로, 검증용 데이터셋과 겹치지 않음\n",
        "16. 과적합\n",
        "  * 입력 데이터의 특정한 특징을 기억하도록 모델을 학습시킨 상태, 학습 시 보지 못한 데이터에서 일반화가 잘 되지 않음\n",
        "17. CNN\n",
        "  * 영상 처리 작업에서 특히 잘 작동하는 신경망인 합성곱 신경망\n",
        "\n",
        "\n"
      ],
      "metadata": {
        "id": "SwnLu_R42J11"
      }
    }
  ]
}